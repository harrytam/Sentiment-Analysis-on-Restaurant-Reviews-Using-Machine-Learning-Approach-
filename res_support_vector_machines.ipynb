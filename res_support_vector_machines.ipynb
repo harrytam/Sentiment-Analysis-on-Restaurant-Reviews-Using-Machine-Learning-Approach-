{
 "cells": [
  {
   "cell_type": "markdown",
   "id": "b06e5a97",
   "metadata": {},
   "source": [
    "# INM434 Natural Language Processing Final Report"
   ]
  },
  {
   "cell_type": "markdown",
   "id": "0c5838e7",
   "metadata": {},
   "source": [
    "## By Ho Yin Tam"
   ]
  },
  {
   "cell_type": "markdown",
   "id": "3eddd9e2",
   "metadata": {},
   "source": [
    "Import the library."
   ]
  },
  {
   "cell_type": "code",
   "execution_count": 11,
   "id": "9b3c1abf",
   "metadata": {},
   "outputs": [],
   "source": [
    "import numpy as np\n",
    "import pandas as pd\n",
    "import matplotlib.pyplot as plt\n",
    "import seaborn as sns\n",
    "from sklearn.feature_extraction.text import CountVectorizer, TfidfVectorizer\n",
    "from sklearn.svm import SVC\n",
    "from sklearn.metrics import accuracy_score, precision_score, recall_score, f1_score, roc_curve, roc_auc_score, auc, confusion_matrix\n",
    "from sklearn.model_selection import GridSearchCV\n",
    "import warnings\n",
    "warnings.filterwarnings('ignore')"
   ]
  },
  {
   "cell_type": "markdown",
   "id": "e41aa2e4",
   "metadata": {},
   "source": [
    "Import the training set and test set."
   ]
  },
  {
   "cell_type": "code",
   "execution_count": 12,
   "id": "84b597f1",
   "metadata": {},
   "outputs": [],
   "source": [
    "X_train = pd.read_csv('X_train.csv')\n",
    "y_train = pd.read_csv('y_train.csv')\n",
    "X_test = pd.read_csv('X_test.csv')\n",
    "y_test = pd.read_csv('y_test.csv')"
   ]
  },
  {
   "cell_type": "markdown",
   "id": "28a897e0",
   "metadata": {},
   "source": [
    "Convert the X_train to series data type."
   ]
  },
  {
   "cell_type": "code",
   "execution_count": 13,
   "id": "0fdb4888",
   "metadata": {
    "scrolled": true
   },
   "outputs": [],
   "source": [
    "X_train_text = X_train['text']\n",
    "X_test_text = X_test['text']"
   ]
  },
  {
   "cell_type": "markdown",
   "id": "4362c6f0",
   "metadata": {},
   "source": [
    "Reshape the target label of y_train and y_test."
   ]
  },
  {
   "cell_type": "code",
   "execution_count": 14,
   "id": "bab26981",
   "metadata": {},
   "outputs": [],
   "source": [
    "y_train_reshape = np.ravel(y_train)\n",
    "y_test_reshape = np.ravel(y_test)"
   ]
  },
  {
   "cell_type": "markdown",
   "id": "cc670e89",
   "metadata": {},
   "source": [
    "### Baseline model"
   ]
  },
  {
   "cell_type": "markdown",
   "id": "4b5cf51a",
   "metadata": {},
   "source": [
    "### Feature extraction"
   ]
  },
  {
   "cell_type": "markdown",
   "id": "8fc28fc1",
   "metadata": {},
   "source": [
    "Count vectorizer."
   ]
  },
  {
   "cell_type": "code",
   "execution_count": 15,
   "id": "14e9a59b",
   "metadata": {
    "scrolled": false
   },
   "outputs": [],
   "source": [
    "# Initiate the count vectorizer\n",
    "count_vectorizer = CountVectorizer()\n",
    "\n",
    "# Fit and transform the text data \n",
    "X_train_count = count_vectorizer.fit_transform(X_train_text)\n",
    "X_test_count = count_vectorizer.transform(X_test_text)\n",
    "\n",
    "# Convert it for modelling\n",
    "X_train_count_array = X_train_count.toarray()\n",
    "X_test_count_array = X_test_count.toarray()"
   ]
  },
  {
   "cell_type": "markdown",
   "id": "3e0441f0",
   "metadata": {},
   "source": [
    "Initiate the support vector machines model and train the model with the training set."
   ]
  },
  {
   "cell_type": "code",
   "execution_count": 16,
   "id": "ecd044fa",
   "metadata": {
    "scrolled": true
   },
   "outputs": [
    {
     "data": {
      "text/html": [
       "<style>#sk-container-id-3 {\n",
       "  /* Definition of color scheme common for light and dark mode */\n",
       "  --sklearn-color-text: black;\n",
       "  --sklearn-color-line: gray;\n",
       "  /* Definition of color scheme for unfitted estimators */\n",
       "  --sklearn-color-unfitted-level-0: #fff5e6;\n",
       "  --sklearn-color-unfitted-level-1: #f6e4d2;\n",
       "  --sklearn-color-unfitted-level-2: #ffe0b3;\n",
       "  --sklearn-color-unfitted-level-3: chocolate;\n",
       "  /* Definition of color scheme for fitted estimators */\n",
       "  --sklearn-color-fitted-level-0: #f0f8ff;\n",
       "  --sklearn-color-fitted-level-1: #d4ebff;\n",
       "  --sklearn-color-fitted-level-2: #b3dbfd;\n",
       "  --sklearn-color-fitted-level-3: cornflowerblue;\n",
       "\n",
       "  /* Specific color for light theme */\n",
       "  --sklearn-color-text-on-default-background: var(--sg-text-color, var(--theme-code-foreground, var(--jp-content-font-color1, black)));\n",
       "  --sklearn-color-background: var(--sg-background-color, var(--theme-background, var(--jp-layout-color0, white)));\n",
       "  --sklearn-color-border-box: var(--sg-text-color, var(--theme-code-foreground, var(--jp-content-font-color1, black)));\n",
       "  --sklearn-color-icon: #696969;\n",
       "\n",
       "  @media (prefers-color-scheme: dark) {\n",
       "    /* Redefinition of color scheme for dark theme */\n",
       "    --sklearn-color-text-on-default-background: var(--sg-text-color, var(--theme-code-foreground, var(--jp-content-font-color1, white)));\n",
       "    --sklearn-color-background: var(--sg-background-color, var(--theme-background, var(--jp-layout-color0, #111)));\n",
       "    --sklearn-color-border-box: var(--sg-text-color, var(--theme-code-foreground, var(--jp-content-font-color1, white)));\n",
       "    --sklearn-color-icon: #878787;\n",
       "  }\n",
       "}\n",
       "\n",
       "#sk-container-id-3 {\n",
       "  color: var(--sklearn-color-text);\n",
       "}\n",
       "\n",
       "#sk-container-id-3 pre {\n",
       "  padding: 0;\n",
       "}\n",
       "\n",
       "#sk-container-id-3 input.sk-hidden--visually {\n",
       "  border: 0;\n",
       "  clip: rect(1px 1px 1px 1px);\n",
       "  clip: rect(1px, 1px, 1px, 1px);\n",
       "  height: 1px;\n",
       "  margin: -1px;\n",
       "  overflow: hidden;\n",
       "  padding: 0;\n",
       "  position: absolute;\n",
       "  width: 1px;\n",
       "}\n",
       "\n",
       "#sk-container-id-3 div.sk-dashed-wrapped {\n",
       "  border: 1px dashed var(--sklearn-color-line);\n",
       "  margin: 0 0.4em 0.5em 0.4em;\n",
       "  box-sizing: border-box;\n",
       "  padding-bottom: 0.4em;\n",
       "  background-color: var(--sklearn-color-background);\n",
       "}\n",
       "\n",
       "#sk-container-id-3 div.sk-container {\n",
       "  /* jupyter's `normalize.less` sets `[hidden] { display: none; }`\n",
       "     but bootstrap.min.css set `[hidden] { display: none !important; }`\n",
       "     so we also need the `!important` here to be able to override the\n",
       "     default hidden behavior on the sphinx rendered scikit-learn.org.\n",
       "     See: https://github.com/scikit-learn/scikit-learn/issues/21755 */\n",
       "  display: inline-block !important;\n",
       "  position: relative;\n",
       "}\n",
       "\n",
       "#sk-container-id-3 div.sk-text-repr-fallback {\n",
       "  display: none;\n",
       "}\n",
       "\n",
       "div.sk-parallel-item,\n",
       "div.sk-serial,\n",
       "div.sk-item {\n",
       "  /* draw centered vertical line to link estimators */\n",
       "  background-image: linear-gradient(var(--sklearn-color-text-on-default-background), var(--sklearn-color-text-on-default-background));\n",
       "  background-size: 2px 100%;\n",
       "  background-repeat: no-repeat;\n",
       "  background-position: center center;\n",
       "}\n",
       "\n",
       "/* Parallel-specific style estimator block */\n",
       "\n",
       "#sk-container-id-3 div.sk-parallel-item::after {\n",
       "  content: \"\";\n",
       "  width: 100%;\n",
       "  border-bottom: 2px solid var(--sklearn-color-text-on-default-background);\n",
       "  flex-grow: 1;\n",
       "}\n",
       "\n",
       "#sk-container-id-3 div.sk-parallel {\n",
       "  display: flex;\n",
       "  align-items: stretch;\n",
       "  justify-content: center;\n",
       "  background-color: var(--sklearn-color-background);\n",
       "  position: relative;\n",
       "}\n",
       "\n",
       "#sk-container-id-3 div.sk-parallel-item {\n",
       "  display: flex;\n",
       "  flex-direction: column;\n",
       "}\n",
       "\n",
       "#sk-container-id-3 div.sk-parallel-item:first-child::after {\n",
       "  align-self: flex-end;\n",
       "  width: 50%;\n",
       "}\n",
       "\n",
       "#sk-container-id-3 div.sk-parallel-item:last-child::after {\n",
       "  align-self: flex-start;\n",
       "  width: 50%;\n",
       "}\n",
       "\n",
       "#sk-container-id-3 div.sk-parallel-item:only-child::after {\n",
       "  width: 0;\n",
       "}\n",
       "\n",
       "/* Serial-specific style estimator block */\n",
       "\n",
       "#sk-container-id-3 div.sk-serial {\n",
       "  display: flex;\n",
       "  flex-direction: column;\n",
       "  align-items: center;\n",
       "  background-color: var(--sklearn-color-background);\n",
       "  padding-right: 1em;\n",
       "  padding-left: 1em;\n",
       "}\n",
       "\n",
       "\n",
       "/* Toggleable style: style used for estimator/Pipeline/ColumnTransformer box that is\n",
       "clickable and can be expanded/collapsed.\n",
       "- Pipeline and ColumnTransformer use this feature and define the default style\n",
       "- Estimators will overwrite some part of the style using the `sk-estimator` class\n",
       "*/\n",
       "\n",
       "/* Pipeline and ColumnTransformer style (default) */\n",
       "\n",
       "#sk-container-id-3 div.sk-toggleable {\n",
       "  /* Default theme specific background. It is overwritten whether we have a\n",
       "  specific estimator or a Pipeline/ColumnTransformer */\n",
       "  background-color: var(--sklearn-color-background);\n",
       "}\n",
       "\n",
       "/* Toggleable label */\n",
       "#sk-container-id-3 label.sk-toggleable__label {\n",
       "  cursor: pointer;\n",
       "  display: block;\n",
       "  width: 100%;\n",
       "  margin-bottom: 0;\n",
       "  padding: 0.5em;\n",
       "  box-sizing: border-box;\n",
       "  text-align: center;\n",
       "}\n",
       "\n",
       "#sk-container-id-3 label.sk-toggleable__label-arrow:before {\n",
       "  /* Arrow on the left of the label */\n",
       "  content: \"▸\";\n",
       "  float: left;\n",
       "  margin-right: 0.25em;\n",
       "  color: var(--sklearn-color-icon);\n",
       "}\n",
       "\n",
       "#sk-container-id-3 label.sk-toggleable__label-arrow:hover:before {\n",
       "  color: var(--sklearn-color-text);\n",
       "}\n",
       "\n",
       "/* Toggleable content - dropdown */\n",
       "\n",
       "#sk-container-id-3 div.sk-toggleable__content {\n",
       "  max-height: 0;\n",
       "  max-width: 0;\n",
       "  overflow: hidden;\n",
       "  text-align: left;\n",
       "  /* unfitted */\n",
       "  background-color: var(--sklearn-color-unfitted-level-0);\n",
       "}\n",
       "\n",
       "#sk-container-id-3 div.sk-toggleable__content.fitted {\n",
       "  /* fitted */\n",
       "  background-color: var(--sklearn-color-fitted-level-0);\n",
       "}\n",
       "\n",
       "#sk-container-id-3 div.sk-toggleable__content pre {\n",
       "  margin: 0.2em;\n",
       "  border-radius: 0.25em;\n",
       "  color: var(--sklearn-color-text);\n",
       "  /* unfitted */\n",
       "  background-color: var(--sklearn-color-unfitted-level-0);\n",
       "}\n",
       "\n",
       "#sk-container-id-3 div.sk-toggleable__content.fitted pre {\n",
       "  /* unfitted */\n",
       "  background-color: var(--sklearn-color-fitted-level-0);\n",
       "}\n",
       "\n",
       "#sk-container-id-3 input.sk-toggleable__control:checked~div.sk-toggleable__content {\n",
       "  /* Expand drop-down */\n",
       "  max-height: 200px;\n",
       "  max-width: 100%;\n",
       "  overflow: auto;\n",
       "}\n",
       "\n",
       "#sk-container-id-3 input.sk-toggleable__control:checked~label.sk-toggleable__label-arrow:before {\n",
       "  content: \"▾\";\n",
       "}\n",
       "\n",
       "/* Pipeline/ColumnTransformer-specific style */\n",
       "\n",
       "#sk-container-id-3 div.sk-label input.sk-toggleable__control:checked~label.sk-toggleable__label {\n",
       "  color: var(--sklearn-color-text);\n",
       "  background-color: var(--sklearn-color-unfitted-level-2);\n",
       "}\n",
       "\n",
       "#sk-container-id-3 div.sk-label.fitted input.sk-toggleable__control:checked~label.sk-toggleable__label {\n",
       "  background-color: var(--sklearn-color-fitted-level-2);\n",
       "}\n",
       "\n",
       "/* Estimator-specific style */\n",
       "\n",
       "/* Colorize estimator box */\n",
       "#sk-container-id-3 div.sk-estimator input.sk-toggleable__control:checked~label.sk-toggleable__label {\n",
       "  /* unfitted */\n",
       "  background-color: var(--sklearn-color-unfitted-level-2);\n",
       "}\n",
       "\n",
       "#sk-container-id-3 div.sk-estimator.fitted input.sk-toggleable__control:checked~label.sk-toggleable__label {\n",
       "  /* fitted */\n",
       "  background-color: var(--sklearn-color-fitted-level-2);\n",
       "}\n",
       "\n",
       "#sk-container-id-3 div.sk-label label.sk-toggleable__label,\n",
       "#sk-container-id-3 div.sk-label label {\n",
       "  /* The background is the default theme color */\n",
       "  color: var(--sklearn-color-text-on-default-background);\n",
       "}\n",
       "\n",
       "/* On hover, darken the color of the background */\n",
       "#sk-container-id-3 div.sk-label:hover label.sk-toggleable__label {\n",
       "  color: var(--sklearn-color-text);\n",
       "  background-color: var(--sklearn-color-unfitted-level-2);\n",
       "}\n",
       "\n",
       "/* Label box, darken color on hover, fitted */\n",
       "#sk-container-id-3 div.sk-label.fitted:hover label.sk-toggleable__label.fitted {\n",
       "  color: var(--sklearn-color-text);\n",
       "  background-color: var(--sklearn-color-fitted-level-2);\n",
       "}\n",
       "\n",
       "/* Estimator label */\n",
       "\n",
       "#sk-container-id-3 div.sk-label label {\n",
       "  font-family: monospace;\n",
       "  font-weight: bold;\n",
       "  display: inline-block;\n",
       "  line-height: 1.2em;\n",
       "}\n",
       "\n",
       "#sk-container-id-3 div.sk-label-container {\n",
       "  text-align: center;\n",
       "}\n",
       "\n",
       "/* Estimator-specific */\n",
       "#sk-container-id-3 div.sk-estimator {\n",
       "  font-family: monospace;\n",
       "  border: 1px dotted var(--sklearn-color-border-box);\n",
       "  border-radius: 0.25em;\n",
       "  box-sizing: border-box;\n",
       "  margin-bottom: 0.5em;\n",
       "  /* unfitted */\n",
       "  background-color: var(--sklearn-color-unfitted-level-0);\n",
       "}\n",
       "\n",
       "#sk-container-id-3 div.sk-estimator.fitted {\n",
       "  /* fitted */\n",
       "  background-color: var(--sklearn-color-fitted-level-0);\n",
       "}\n",
       "\n",
       "/* on hover */\n",
       "#sk-container-id-3 div.sk-estimator:hover {\n",
       "  /* unfitted */\n",
       "  background-color: var(--sklearn-color-unfitted-level-2);\n",
       "}\n",
       "\n",
       "#sk-container-id-3 div.sk-estimator.fitted:hover {\n",
       "  /* fitted */\n",
       "  background-color: var(--sklearn-color-fitted-level-2);\n",
       "}\n",
       "\n",
       "/* Specification for estimator info (e.g. \"i\" and \"?\") */\n",
       "\n",
       "/* Common style for \"i\" and \"?\" */\n",
       "\n",
       ".sk-estimator-doc-link,\n",
       "a:link.sk-estimator-doc-link,\n",
       "a:visited.sk-estimator-doc-link {\n",
       "  float: right;\n",
       "  font-size: smaller;\n",
       "  line-height: 1em;\n",
       "  font-family: monospace;\n",
       "  background-color: var(--sklearn-color-background);\n",
       "  border-radius: 1em;\n",
       "  height: 1em;\n",
       "  width: 1em;\n",
       "  text-decoration: none !important;\n",
       "  margin-left: 1ex;\n",
       "  /* unfitted */\n",
       "  border: var(--sklearn-color-unfitted-level-1) 1pt solid;\n",
       "  color: var(--sklearn-color-unfitted-level-1);\n",
       "}\n",
       "\n",
       ".sk-estimator-doc-link.fitted,\n",
       "a:link.sk-estimator-doc-link.fitted,\n",
       "a:visited.sk-estimator-doc-link.fitted {\n",
       "  /* fitted */\n",
       "  border: var(--sklearn-color-fitted-level-1) 1pt solid;\n",
       "  color: var(--sklearn-color-fitted-level-1);\n",
       "}\n",
       "\n",
       "/* On hover */\n",
       "div.sk-estimator:hover .sk-estimator-doc-link:hover,\n",
       ".sk-estimator-doc-link:hover,\n",
       "div.sk-label-container:hover .sk-estimator-doc-link:hover,\n",
       ".sk-estimator-doc-link:hover {\n",
       "  /* unfitted */\n",
       "  background-color: var(--sklearn-color-unfitted-level-3);\n",
       "  color: var(--sklearn-color-background);\n",
       "  text-decoration: none;\n",
       "}\n",
       "\n",
       "div.sk-estimator.fitted:hover .sk-estimator-doc-link.fitted:hover,\n",
       ".sk-estimator-doc-link.fitted:hover,\n",
       "div.sk-label-container:hover .sk-estimator-doc-link.fitted:hover,\n",
       ".sk-estimator-doc-link.fitted:hover {\n",
       "  /* fitted */\n",
       "  background-color: var(--sklearn-color-fitted-level-3);\n",
       "  color: var(--sklearn-color-background);\n",
       "  text-decoration: none;\n",
       "}\n",
       "\n",
       "/* Span, style for the box shown on hovering the info icon */\n",
       ".sk-estimator-doc-link span {\n",
       "  display: none;\n",
       "  z-index: 9999;\n",
       "  position: relative;\n",
       "  font-weight: normal;\n",
       "  right: .2ex;\n",
       "  padding: .5ex;\n",
       "  margin: .5ex;\n",
       "  width: min-content;\n",
       "  min-width: 20ex;\n",
       "  max-width: 50ex;\n",
       "  color: var(--sklearn-color-text);\n",
       "  box-shadow: 2pt 2pt 4pt #999;\n",
       "  /* unfitted */\n",
       "  background: var(--sklearn-color-unfitted-level-0);\n",
       "  border: .5pt solid var(--sklearn-color-unfitted-level-3);\n",
       "}\n",
       "\n",
       ".sk-estimator-doc-link.fitted span {\n",
       "  /* fitted */\n",
       "  background: var(--sklearn-color-fitted-level-0);\n",
       "  border: var(--sklearn-color-fitted-level-3);\n",
       "}\n",
       "\n",
       ".sk-estimator-doc-link:hover span {\n",
       "  display: block;\n",
       "}\n",
       "\n",
       "/* \"?\"-specific style due to the `<a>` HTML tag */\n",
       "\n",
       "#sk-container-id-3 a.estimator_doc_link {\n",
       "  float: right;\n",
       "  font-size: 1rem;\n",
       "  line-height: 1em;\n",
       "  font-family: monospace;\n",
       "  background-color: var(--sklearn-color-background);\n",
       "  border-radius: 1rem;\n",
       "  height: 1rem;\n",
       "  width: 1rem;\n",
       "  text-decoration: none;\n",
       "  /* unfitted */\n",
       "  color: var(--sklearn-color-unfitted-level-1);\n",
       "  border: var(--sklearn-color-unfitted-level-1) 1pt solid;\n",
       "}\n",
       "\n",
       "#sk-container-id-3 a.estimator_doc_link.fitted {\n",
       "  /* fitted */\n",
       "  border: var(--sklearn-color-fitted-level-1) 1pt solid;\n",
       "  color: var(--sklearn-color-fitted-level-1);\n",
       "}\n",
       "\n",
       "/* On hover */\n",
       "#sk-container-id-3 a.estimator_doc_link:hover {\n",
       "  /* unfitted */\n",
       "  background-color: var(--sklearn-color-unfitted-level-3);\n",
       "  color: var(--sklearn-color-background);\n",
       "  text-decoration: none;\n",
       "}\n",
       "\n",
       "#sk-container-id-3 a.estimator_doc_link.fitted:hover {\n",
       "  /* fitted */\n",
       "  background-color: var(--sklearn-color-fitted-level-3);\n",
       "}\n",
       "</style><div id=\"sk-container-id-3\" class=\"sk-top-container\"><div class=\"sk-text-repr-fallback\"><pre>SVC()</pre><b>In a Jupyter environment, please rerun this cell to show the HTML representation or trust the notebook. <br />On GitHub, the HTML representation is unable to render, please try loading this page with nbviewer.org.</b></div><div class=\"sk-container\" hidden><div class=\"sk-item\"><div class=\"sk-estimator fitted sk-toggleable\"><input class=\"sk-toggleable__control sk-hidden--visually\" id=\"sk-estimator-id-3\" type=\"checkbox\" checked><label for=\"sk-estimator-id-3\" class=\"sk-toggleable__label fitted sk-toggleable__label-arrow fitted\">&nbsp;&nbsp;SVC<a class=\"sk-estimator-doc-link fitted\" rel=\"noreferrer\" target=\"_blank\" href=\"https://scikit-learn.org/1.4/modules/generated/sklearn.svm.SVC.html\">?<span>Documentation for SVC</span></a><span class=\"sk-estimator-doc-link fitted\">i<span>Fitted</span></span></label><div class=\"sk-toggleable__content fitted\"><pre>SVC()</pre></div> </div></div></div></div>"
      ],
      "text/plain": [
       "SVC()"
      ]
     },
     "execution_count": 16,
     "metadata": {},
     "output_type": "execute_result"
    }
   ],
   "source": [
    "# Initiate the support vector machines model \n",
    "svm_count = SVC()\n",
    "\n",
    "# Train the model with the training set\n",
    "svm_count.fit(X_train_count_array, y_train_reshape)"
   ]
  },
  {
   "cell_type": "markdown",
   "id": "11498581",
   "metadata": {},
   "source": [
    "Use the test set to predict."
   ]
  },
  {
   "cell_type": "code",
   "execution_count": 17,
   "id": "1340c95d",
   "metadata": {
    "scrolled": true
   },
   "outputs": [
    {
     "data": {
      "text/plain": [
       "array([1, 0, 0, 0, 0, 0, 0, 1, 0, 0, 0, 0, 0, 0, 1, 0, 1, 0, 0, 1, 0, 0,\n",
       "       0, 0, 0, 1, 0, 1, 0, 0, 0, 0, 0, 1, 0, 0, 0, 0, 0, 1, 0, 0, 0, 0,\n",
       "       1, 0, 0, 0, 1, 0, 1, 0, 1, 1, 1, 0, 1, 0, 0, 0, 1, 1, 0, 0, 0, 1,\n",
       "       0, 0, 1, 0, 0, 0, 0, 1, 0, 0, 1, 0, 1, 0, 0, 0, 1, 1, 0, 1, 0, 0,\n",
       "       0, 0, 0, 0, 0, 1, 1, 0, 1, 1, 0, 1, 0, 1, 0, 1, 0, 1, 1, 0, 1, 0,\n",
       "       1, 0, 0, 1, 1, 0, 1, 0, 1, 0, 1, 0, 1, 0, 0, 1, 0, 1, 0, 0, 1, 0,\n",
       "       0, 0, 1, 0, 0, 1, 0, 0, 0, 1, 0, 0, 0, 0, 1, 1, 0, 0, 0, 1, 0, 1,\n",
       "       1, 1, 1, 0, 0, 1, 0, 1, 0, 1, 1, 0, 1, 1, 1, 1, 1, 0, 0, 1, 0, 0,\n",
       "       0, 1, 0, 0, 0, 0, 0, 1, 0, 1, 1, 0, 0, 0, 0, 0, 0, 1, 0, 0, 0, 1,\n",
       "       0, 1], dtype=int64)"
      ]
     },
     "execution_count": 17,
     "metadata": {},
     "output_type": "execute_result"
    }
   ],
   "source": [
    "# Use the test set to predict\n",
    "y_pred_count = svm_count.predict(X_test_count_array)\n",
    "y_pred_count"
   ]
  },
  {
   "cell_type": "markdown",
   "id": "755b245e",
   "metadata": {},
   "source": [
    "Compute the confusion matrix and visualize it."
   ]
  },
  {
   "cell_type": "code",
   "execution_count": 23,
   "id": "2a32cd1b",
   "metadata": {},
   "outputs": [
    {
     "data": {
      "image/png": "[encoded data removed]",
      "text/plain": [
       "<Figure size 500x500 with 1 Axes>"
      ]
     },
     "metadata": {},
     "output_type": "display_data"
    }
   ],
   "source": [
    "svm_count_cm = confusion_matrix(y_pred_count, y_test_reshape)\n",
    "plt.figure(figsize = (5,5))\n",
    "sns.heatmap(svm_count_cm, annot = True, cmap = 'Blues', cbar = False)\n",
    "plt.title('Confusion matrix (Support Vector Machines baseline)')\n",
    "plt.xlabel('Predicted labels')\n",
    "plt.ylabel('True labels')\n",
    "plt.show()"
   ]
  },
  {
   "cell_type": "markdown",
   "id": "f4b9be7f",
   "metadata": {},
   "source": [
    "Compute accuracy, precision, recall, and F1 score of the baseline."
   ]
  },
  {
   "cell_type": "code",
   "execution_count": 19,
   "id": "97a548b8",
   "metadata": {},
   "outputs": [
    {
     "name": "stdout",
     "output_type": "stream",
     "text": [
      "Accuracy of support vector machines baseline: 0.755\n",
      "Precision of support vector machines baseline: 0.6276595744680851\n",
      "Recall of support vector machines baseline: 0.8082191780821918\n",
      "F1 score of support vector machines baseline: 0.7065868263473054\n"
     ]
    }
   ],
   "source": [
    "# Compute accuracy, precision, recall, and F1 score of the baseline\n",
    "svm_accuracy_count = accuracy_score(y_pred_count, y_test_reshape)\n",
    "svm_precision_count = precision_score(y_pred_count, y_test_reshape)\n",
    "svm_recall_count = recall_score(y_pred_count, y_test_reshape)\n",
    "svm_f1score_count = f1_score(y_pred_count, y_test_reshape)\n",
    "\n",
    "# Display the result\n",
    "print('Accuracy of support vector machines baseline:', svm_accuracy_count)\n",
    "print('Precision of support vector machines baseline:', svm_precision_count)\n",
    "print('Recall of support vector machines baseline:', svm_recall_count)\n",
    "print('F1 score of support vector machines baseline:', svm_f1score_count)"
   ]
  },
  {
   "cell_type": "markdown",
   "id": "b285ee1c",
   "metadata": {},
   "source": [
    "Visualize the receiver operating characteristic (ROC) curve and compute the value of area under the curve (AUC)."
   ]
  },
  {
   "cell_type": "code",
   "execution_count": 39,
   "id": "ab6caa35",
   "metadata": {},
   "outputs": [
    {
     "data": {
      "image/png": "[encoded data removed]",
      "text/plain": [
       "<Figure size 600x500 with 1 Axes>"
      ]
     },
     "metadata": {},
     "output_type": "display_data"
    }
   ],
   "source": [
    "# Compute the value of area under the curve (AUC)\n",
    "y_test_count_score = svm_count.decision_function(X_test_count_array)\n",
    "svm_count_fpr, svm_count_tpr, svm_count_thresholds = roc_curve(y_test_reshape, y_test_count_score)\n",
    "svm_count_auc = auc(svm_count_fpr, svm_count_tpr)\n",
    "\n",
    "# Plot receiver operating characteristic (ROC) curve\n",
    "plt.figure(figsize = (6, 5))\n",
    "plt.plot(svm_count_fpr, svm_count_tpr, color = 'blue', lw = 2, label = 'ROC curve (AUC = %0.2f)' % svm_count_auc)\n",
    "plt.plot([0, 1], [0, 1], color = 'orange', linestyle = '--', label = 'Random guess')\n",
    "plt.xlim([0.0, 1.0])\n",
    "plt.ylim([0.0, 1.05])\n",
    "plt.xlabel('False Positive Rate')\n",
    "plt.ylabel('True Positive Rate')\n",
    "plt.title('Receiver Operating Characteristic (ROC) Curve of Support Vector Machines (Baseline)')\n",
    "plt.legend(loc = 'lower right')\n",
    "plt.show()"
   ]
  },
  {
   "cell_type": "code",
   "execution_count": null,
   "id": "9a7b93d5",
   "metadata": {},
   "outputs": [],
   "source": []
  },
  {
   "cell_type": "markdown",
   "id": "690a1bb9",
   "metadata": {},
   "source": [
    "### Version using TF-IDF to extract features and grid search and ten fold cross validation to train the model "
   ]
  },
  {
   "cell_type": "markdown",
   "id": "7ee17570",
   "metadata": {},
   "source": [
    "### Feature extraction"
   ]
  },
  {
   "cell_type": "markdown",
   "id": "1975b866",
   "metadata": {},
   "source": [
    "TF-IDF."
   ]
  },
  {
   "cell_type": "code",
   "execution_count": 24,
   "id": "81ed9abe",
   "metadata": {
    "scrolled": true
   },
   "outputs": [],
   "source": [
    "# Initiate the TF-IDF vectorizer\n",
    "tfidf_vectorizer = TfidfVectorizer()\n",
    "\n",
    "# Fit and transform the text data \n",
    "X_train_tfidf = tfidf_vectorizer.fit_transform(X_train_text)\n",
    "X_test_tfidf = tfidf_vectorizer.transform(X_test_text)\n",
    "\n",
    "# Convert it for modelling\n",
    "X_train_tfidf_array = X_train_tfidf.toarray()\n",
    "X_test_tfidf_array = X_test_tfidf.toarray()"
   ]
  },
  {
   "cell_type": "markdown",
   "id": "328d8372",
   "metadata": {},
   "source": [
    "Define the hyperparameter grid."
   ]
  },
  {
   "cell_type": "code",
   "execution_count": 25,
   "id": "b6477fae",
   "metadata": {
    "scrolled": true
   },
   "outputs": [
    {
     "data": {
      "text/plain": [
       "{'kernel': ['linear', 'poly', 'rbf'], 'degree': [2, 3, 4], 'C': [0.1, 1, 10]}"
      ]
     },
     "execution_count": 25,
     "metadata": {},
     "output_type": "execute_result"
    }
   ],
   "source": [
    "# Define the hyperparameter grid\n",
    "svm_param_grid = {'kernel': ['linear', 'poly', 'rbf'],\n",
    "                 'degree': [2, 3, 4],\n",
    "                 'C': [0.1, 1, 10]}\n",
    "svm_param_grid"
   ]
  },
  {
   "cell_type": "markdown",
   "id": "4660f03a",
   "metadata": {},
   "source": [
    "Perform grid search with 10-fold cross validation."
   ]
  },
  {
   "cell_type": "code",
   "execution_count": 28,
   "id": "d91c3aec",
   "metadata": {},
   "outputs": [
    {
     "name": "stdout",
     "output_type": "stream",
     "text": [
      "Best score is: 0.7926898734177216\n",
      "Best hyperparameters is: {'C': 1, 'degree': 2, 'kernel': 'poly'}\n"
     ]
    }
   ],
   "source": [
    "# Initiate the support vector machines model \n",
    "svm_tfidf = SVC()\n",
    "\n",
    "# Instantiate the Grid Search object\n",
    "svm_tfidf_grid_search = GridSearchCV(svm_tfidf, svm_param_grid, cv = 10, scoring = 'accuracy')\n",
    "\n",
    "# Fit the Grid Search object\n",
    "svm_tfidf_grid_search.fit(X_train_tfidf_array, y_train_reshape)\n",
    "\n",
    "# Get the highest accuracy, best hyperparameters, and the best model\n",
    "svm_tfidf_train_accuracy = svm_tfidf_grid_search.best_score_\n",
    "svm_tfidf_best_params = svm_tfidf_grid_search.best_params_\n",
    "svm_tfidf_best_model = svm_tfidf_grid_search.best_estimator_\n",
    "\n",
    "# Display the result\n",
    "print('Best score is:', svm_tfidf_train_accuracy)\n",
    "print(\"Best hyperparameters is:\", svm_tfidf_best_params)"
   ]
  },
  {
   "cell_type": "markdown",
   "id": "4b92d017",
   "metadata": {},
   "source": [
    "Use the best model and test set to predict."
   ]
  },
  {
   "cell_type": "code",
   "execution_count": 30,
   "id": "4800344c",
   "metadata": {},
   "outputs": [
    {
     "data": {
      "text/plain": [
       "array([1, 0, 0, 0, 0, 0, 0, 1, 1, 0, 0, 0, 0, 0, 1, 0, 1, 0, 0, 1, 0, 0,\n",
       "       0, 0, 0, 1, 0, 1, 0, 0, 1, 0, 0, 1, 0, 0, 0, 0, 0, 1, 0, 0, 0, 0,\n",
       "       1, 0, 0, 0, 1, 1, 1, 0, 1, 1, 1, 0, 1, 0, 0, 0, 1, 1, 0, 0, 0, 1,\n",
       "       0, 1, 1, 0, 0, 0, 0, 1, 0, 0, 1, 0, 1, 0, 0, 0, 1, 1, 0, 1, 1, 0,\n",
       "       0, 0, 1, 0, 0, 1, 1, 0, 0, 1, 1, 1, 0, 1, 1, 1, 0, 1, 1, 0, 0, 0,\n",
       "       1, 0, 0, 1, 1, 0, 1, 0, 1, 1, 1, 0, 1, 0, 0, 1, 0, 1, 0, 0, 0, 0,\n",
       "       0, 0, 1, 0, 0, 1, 0, 0, 1, 1, 1, 0, 0, 0, 1, 1, 0, 0, 1, 1, 0, 1,\n",
       "       1, 1, 1, 0, 0, 1, 0, 0, 0, 1, 1, 0, 1, 1, 1, 1, 1, 0, 0, 1, 0, 1,\n",
       "       0, 1, 0, 0, 0, 0, 0, 1, 0, 1, 1, 0, 0, 0, 1, 0, 0, 1, 0, 0, 0, 1,\n",
       "       0, 1], dtype=int64)"
      ]
     },
     "execution_count": 30,
     "metadata": {},
     "output_type": "execute_result"
    }
   ],
   "source": [
    "# Use the test set to predict\n",
    "y_pred_tfidf = svm_tfidf_best_model.predict(X_test_tfidf_array)\n",
    "y_pred_tfidf"
   ]
  },
  {
   "cell_type": "markdown",
   "id": "00326281",
   "metadata": {},
   "source": [
    "Compute the confusion matrix and visualize it."
   ]
  },
  {
   "cell_type": "code",
   "execution_count": 31,
   "id": "bd3565d6",
   "metadata": {},
   "outputs": [
    {
     "data": {
      "image/png": "[encoded data removed]",
      "text/plain": [
       "<Figure size 500x500 with 1 Axes>"
      ]
     },
     "metadata": {},
     "output_type": "display_data"
    }
   ],
   "source": [
    "svm_tfidf_cm = confusion_matrix(y_pred_tfidf, y_test_reshape)\n",
    "plt.figure(figsize = (5,5))\n",
    "sns.heatmap(svm_tfidf_cm, annot = True, cmap = 'Blues', cbar = False)\n",
    "plt.title('Confusion matrix (Support vector machines using TFIDF vectorizer)')\n",
    "plt.xlabel('Predicted labels')\n",
    "plt.ylabel('True labels')\n",
    "plt.show()"
   ]
  },
  {
   "cell_type": "markdown",
   "id": "16956b97",
   "metadata": {},
   "source": [
    "Compute accuracy, precision, recall, and F1 score."
   ]
  },
  {
   "cell_type": "code",
   "execution_count": 34,
   "id": "927164a1",
   "metadata": {},
   "outputs": [
    {
     "name": "stdout",
     "output_type": "stream",
     "text": [
      "Accuracy of support vector machines baseline: 0.785\n",
      "Precision of support vector machines baseline: 0.7127659574468085\n",
      "Recall of support vector machines baseline: 0.8072289156626506\n",
      "F1 score of support vector machines baseline: 0.7570621468926554\n"
     ]
    }
   ],
   "source": [
    "# Compute accuracy, precision, recall, and F1 score\n",
    "svm_accuracy_tfidf = accuracy_score(y_pred_tfidf, y_test_reshape)\n",
    "svm_precision_tfidf = precision_score(y_pred_tfidf, y_test_reshape)\n",
    "svm_recall_tfidf = recall_score(y_pred_tfidf, y_test_reshape)\n",
    "svm_f1score_tfidf = f1_score(y_pred_tfidf, y_test_reshape)\n",
    "\n",
    "# Display the result\n",
    "print('Accuracy of support vector machines baseline:', svm_accuracy_tfidf)\n",
    "print('Precision of support vector machines baseline:', svm_precision_tfidf)\n",
    "print('Recall of support vector machines baseline:', svm_recall_tfidf)\n",
    "print('F1 score of support vector machines baseline:', svm_f1score_tfidf)"
   ]
  },
  {
   "cell_type": "markdown",
   "id": "2433be93",
   "metadata": {},
   "source": [
    "Visualize the receiver operating characteristic (ROC) curve and compute the value of area under the curve (AUC)."
   ]
  },
  {
   "cell_type": "code",
   "execution_count": 40,
   "id": "a8ce0a42",
   "metadata": {},
   "outputs": [
    {
     "data": {
      "image/png": "[encoded data removed]",
      "text/plain": [
       "<Figure size 600x500 with 1 Axes>"
      ]
     },
     "metadata": {},
     "output_type": "display_data"
    }
   ],
   "source": [
    "# Compute the value of area under the curve (AUC)\n",
    "y_test_tfidf_score = svm_tfidf_best_model.decision_function(X_test_tfidf_array)\n",
    "svm_tfidf_fpr, svm_tfidf_tpr, svm_tfidf_thresholds = roc_curve(y_test_reshape, y_test_tfidf_score)\n",
    "svm_tfidf_auc = auc(svm_tfidf_fpr, svm_tfidf_tpr)\n",
    "\n",
    "# Plot receiver operating characteristic (ROC) curve\n",
    "plt.figure(figsize = (6, 5))\n",
    "plt.plot(svm_tfidf_fpr, svm_tfidf_tpr, color = 'blue', lw = 2, label = 'ROC curve (AUC = %0.2f)' % svm_tfidf_auc)\n",
    "plt.plot([0, 1], [0, 1], color = 'orange', linestyle = '--', label = 'Random guess')\n",
    "plt.xlim([0.0, 1.0])\n",
    "plt.ylim([0.0, 1.05])\n",
    "plt.xlabel('False Positive Rate')\n",
    "plt.ylabel('True Positive Rate')\n",
    "plt.title('Receiver Operating Characteristic (ROC) Curve of Support Vector Machines using TFIDF Vectorizer')\n",
    "plt.legend(loc = 'lower right')\n",
    "plt.show()"
   ]
  },
  {
   "cell_type": "markdown",
   "id": "3f6b7b07",
   "metadata": {},
   "source": [
    "### Error analysis"
   ]
  },
  {
   "cell_type": "code",
   "execution_count": 36,
   "id": "49682f03",
   "metadata": {},
   "outputs": [
    {
     "name": "stdout",
     "output_type": "stream",
     "text": [
      "16\n",
      "30                                        hour seriously\n",
      "33     go far many place ive never seen restaurant se...\n",
      "39                                      even hello right\n",
      "54     furthermore cant even find hour operation website\n",
      "67                                        wont returning\n",
      "97                        chain im fan beat place easily\n",
      "98     immediately said wanted talk manager want talk...\n",
      "102    problem charge sandwich bigger subway sub offe...\n",
      "103                                                thing\n",
      "105                  pale color instead nice char flavor\n",
      "120    ambiance feel like buffet setting douchey indo...\n",
      "122               bar vega ever recall charged tap water\n",
      "140              checked place couple year ago impressed\n",
      "141                                 place honestly blown\n",
      "166                      buffet bellagio far anticipated\n",
      "199    love sushi found kabuki overpriced overhip und...\n",
      "Name: text, dtype: object\n"
     ]
    }
   ],
   "source": [
    "#  Get the indices \n",
    "misclassified1_indices = (y_pred_tfidf == 1) & (y_test_reshape == 0)\n",
    "\n",
    "# Extract the examples that are misclassified to positive\n",
    "misclassified1_examples = X_test_text[misclassified1_indices]\n",
    "print(len(misclassified1_examples))\n",
    "print(misclassified1_examples)"
   ]
  },
  {
   "cell_type": "code",
   "execution_count": 37,
   "id": "1b5a3f54",
   "metadata": {},
   "outputs": [
    {
     "name": "stdout",
     "output_type": "stream",
     "text": [
      "27\n",
      "2                                                   back\n",
      "10     deal included tasting drink jeff went beyond e...\n",
      "18                           would recommend saving room\n",
      "21                much better ayce sushi place went vega\n",
      "46                      could care le interior beautiful\n",
      "47           also combo like burger fry beer decent deal\n",
      "51              highquality chicken chicken caesar salad\n",
      "55                                             plus buck\n",
      "58                               conclusion filling meal\n",
      "62                                  sushi strip place go\n",
      "63                                       one bite hooked\n",
      "70                                             complaint\n",
      "71           got enjoy seafood salad fabulous vinegrette\n",
      "81                                           worth drive\n",
      "89                                            omelet die\n",
      "95     went bachi burger friend recommendation disapp...\n",
      "124    sure order dessert even need pack togo tiramis...\n",
      "129                      could eat bruschetta day devine\n",
      "130        thats rightthe red velvet cakeohhh stuff good\n",
      "135                goat taco didnt skimp meat wow flavor\n",
      "181                                        go place gyro\n",
      "182                                pretty cool would say\n",
      "188                           place like chipotle better\n",
      "191    warm feeling service felt like guest special t...\n",
      "192     mention combination pear almond bacon big winner\n",
      "194                                          heart place\n",
      "195                                  back many time soon\n",
      "Name: text, dtype: object\n"
     ]
    }
   ],
   "source": [
    "#  Get the indices \n",
    "misclassified0_indices = (y_pred_tfidf == 0) & (y_test_reshape == 1)\n",
    "\n",
    "# Extract the examples that are misclassified to positive\n",
    "misclassified0_examples = X_test_text[misclassified0_indices]\n",
    "print(len(misclassified0_examples))\n",
    "print(misclassified0_examples)"
   ]
  },
  {
   "cell_type": "code",
   "execution_count": null,
   "id": "ee59e987",
   "metadata": {},
   "outputs": [],
   "source": []
  }
 ],
 "metadata": {
  "kernelspec": {
   "display_name": "Python 3 (ipykernel)",
   "language": "python",
   "name": "python3"
  },
  "language_info": {
   "codemirror_mode": {
    "name": "ipython",
    "version": 3
   },
   "file_extension": ".py",
   "mimetype": "text/x-python",
   "name": "python",
   "nbconvert_exporter": "python",
   "pygments_lexer": "ipython3",
   "version": "3.11.5"
  }
 },
 "nbformat": 4,
 "nbformat_minor": 5
}
